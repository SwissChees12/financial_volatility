{
 "cells": [
  {
   "cell_type": "code",
   "execution_count": 1,
   "id": "assumed-strategy",
   "metadata": {},
   "outputs": [],
   "source": [
    "# Required libraries\n",
    "from pathlib import Path\n",
    "import sys\n",
    "import os \n",
    "import pandas as pd\n",
    "import numpy as np\n",
    "from itertools import chain\n",
    "import matplotlib.pyplot as plt\n",
    "import datetime\n",
    "import zipfile \n",
    "from timeit import default_timer as timer\n",
    "# Paths\n",
    "sys.path.append(os.path.join(Path(os.getcwd()).parent))  \n",
    "data_path = os.path.join(os.path.join(Path(os.getcwd()).parent), 'data')\n",
    "data_per_day_path = os.path.join(os.path.join(Path(os.getcwd()).parent), 'data','data_per_day')"
   ]
  },
  {
   "cell_type": "code",
   "execution_count": 2,
   "id": "alive-piano",
   "metadata": {
    "scrolled": true
   },
   "outputs": [
    {
     "data": {
      "text/plain": [
       "'/home/patricklucescu/Dropbox/Projects/financial_volatility/financial_volatility/data/data_per_day/SPY_20200203.csv'"
      ]
     },
     "execution_count": 2,
     "metadata": {},
     "output_type": "execute_result"
    }
   ],
   "source": [
    "# get the csv file now\n",
    "csv_files = [f for f in os.listdir(data_per_day_path) if os.path.isfile(os.path.join(data_per_day_path, f))]\n",
    "csv_files = [file for file in csv_files if '.csv' in file]\n",
    "csv_files = [os.path.join(data_per_day_path, x) for x in csv_files]\n",
    "csv_file = csv_files[0]\n",
    "csv_file"
   ]
  },
  {
   "cell_type": "code",
   "execution_count": 3,
   "id": "prerequisite-frequency",
   "metadata": {},
   "outputs": [
    {
     "name": "stdout",
     "output_type": "stream",
     "text": [
      "CPU times: user 1min 15s, sys: 801 ms, total: 1min 15s\n",
      "Wall time: 1min 15s\n"
     ]
    }
   ],
   "source": [
    "%%time\n",
    "data_df = pd.read_csv(csv_file)\n",
    "data_df.DT = pd.to_datetime(data_df.DT)\n",
    "\n",
    "# non zero quotes\n",
    "data_df = data_df.loc[(data_df.BID>0) & (data_df.BIDSIZ>0) & (data_df.ASK>0) & (data_df.ASKSIZ>0)]\n",
    "\n",
    "# autoselect exchange\n",
    "data_df['total_size'] = data_df.BID + data_df.ASK\n",
    "most_volume = data_df.groupby(['EX']).sum().total_size.copy()\n",
    "desired_exchange = most_volume.idxmax()\n",
    "data_df = data_df.loc[data_df.EX == desired_exchange]\n",
    "\n",
    "# delete negative spreads\n",
    "data_df = data_df.loc[data_df.ASK > data_df.BID]\n",
    "\n",
    "# mergeQuotesSameTimestamp\n",
    "ex = data_df.EX.values[0]\n",
    "sym_root = data_df.SYM_ROOT.values[0]\n",
    "data_df.drop(columns=['SYM_SUFFIX', 'total_size'], inplace=True)\n",
    "data_df = data_df.groupby(['DT']).median()\n",
    "data_df['EX'] = ex\n",
    "data_df['SYM_ROOT'] = sym_root\n",
    "data_df.reset_index(drop=False, inplace=True)\n",
    "\n",
    "# remove entries with spread > 50 * daily medial \n",
    "data_df['SPREAD'] = data_df.ASK - data_df.BID\n",
    "data_df = data_df.loc[data_df['SPREAD'] < 50 * data_df['SPREAD'].median()]\n",
    "\n",
    "# remove outliers using the centered rolling window approach \n",
    "def compute_diff(x):\n",
    "    return x.values[window] - np.median(np.delete(x.values,window))\n",
    "\n",
    "window = 25\n",
    "data_df.sort_values(by=['DT'], inplace=True)\n",
    "data_df['SPREAD_DIFF'] = data_df.SPREAD.rolling(2*window+1, min_periods=2*window+1, center=True).apply(compute_diff)\n",
    "data_df = data_df.dropna()\n",
    "data_df = data_df.loc[data_df['SPREAD_DIFF'] < 10 * data_df['SPREAD_DIFF'].mean()]\n",
    "data_df = data_df.reset_index(drop=True)"
   ]
  },
  {
   "cell_type": "code",
   "execution_count": null,
   "id": "falling-homeless",
   "metadata": {},
   "outputs": [],
   "source": []
  }
 ],
 "metadata": {
  "kernelspec": {
   "display_name": "Python 3",
   "language": "python",
   "name": "python3"
  },
  "language_info": {
   "codemirror_mode": {
    "name": "ipython",
    "version": 3
   },
   "file_extension": ".py",
   "mimetype": "text/x-python",
   "name": "python",
   "nbconvert_exporter": "python",
   "pygments_lexer": "ipython3",
   "version": "3.8.8"
  }
 },
 "nbformat": 4,
 "nbformat_minor": 5
}

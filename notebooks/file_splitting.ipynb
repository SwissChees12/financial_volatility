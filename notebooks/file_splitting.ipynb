{
 "cells": [
  {
   "cell_type": "markdown",
   "id": "round-arthritis",
   "metadata": {},
   "source": [
    "This notebook is intended to extract the csv files and split them into individual files for each day. All these files will be stored in data/data_per_day folder and each file name will be of the form ``SPY_20200203.csv``"
   ]
  },
  {
   "cell_type": "code",
   "execution_count": 1,
   "id": "appointed-detail",
   "metadata": {},
   "outputs": [],
   "source": [
    "# Required libraries\n",
    "from pathlib import Path\n",
    "import sys\n",
    "import os \n",
    "import pandas as pd\n",
    "import numpy as np\n",
    "from itertools import chain\n",
    "import matplotlib.pyplot as plt\n",
    "import datetime\n",
    "import zipfile \n",
    "from timeit import default_timer as timer\n",
    "# Paths\n",
    "sys.path.append(os.path.join(Path(os.getcwd()).parent))  \n",
    "data_path = os.path.join(os.path.join(Path(os.getcwd()).parent), 'data')"
   ]
  },
  {
   "cell_type": "code",
   "execution_count": 2,
   "id": "sufficient-fitting",
   "metadata": {},
   "outputs": [
    {
     "data": {
      "text/plain": [
       "['/home/patricklucescu/Dropbox/Projects/financial_volatility/financial_volatility/data/kj5k45pfwowrssuj_csv.zip']"
      ]
     },
     "execution_count": 2,
     "metadata": {},
     "output_type": "execute_result"
    }
   ],
   "source": [
    "# get data location\n",
    "zip_files = list()\n",
    "zip_files = [f for f in os.listdir(data_path) if os.path.isfile(os.path.join(data_path, f))]\n",
    "zip_files = [file for file in zip_files if '.zip' in file]\n",
    "zip_files = [os.path.join(data_path, x) for x in zip_files]\n",
    "zip_files"
   ]
  },
  {
   "cell_type": "code",
   "execution_count": 3,
   "id": "weird-pennsylvania",
   "metadata": {},
   "outputs": [],
   "source": [
    "zip_file = zip_files[0]\n",
    "with zipfile.ZipFile(zip_file, 'r') as zip_ref:\n",
    "    zip_ref.extractall(data_path)\n",
    "# get the csv file now\n",
    "csv_files = [f for f in os.listdir(data_path) if os.path.isfile(os.path.join(data_path, f))]\n",
    "csv_files = [file for file in csv_files if '.csv' in file]\n",
    "csv_files = [os.path.join(data_path, x) for x in csv_files]\n",
    "csv_file = csv_files[0]"
   ]
  },
  {
   "cell_type": "code",
   "execution_count": 4,
   "id": "tropical-summer",
   "metadata": {},
   "outputs": [
    {
     "name": "stdout",
     "output_type": "stream",
     "text": [
      "Finished 20200203 in 53.98439746399981 seconds\n",
      "CPU times: user 48.4 s, sys: 5.53 s, total: 54 s\n",
      "Wall time: 54 s\n"
     ]
    }
   ],
   "source": [
    "%%time\n",
    "data_parser = pd.read_csv(csv_file, chunksize=5 * 10**5)\n",
    "start=timer()\n",
    "for df in data_parser:\n",
    "    dates = np.sort(df.DATE.unique())\n",
    "    if 'current_date' not in locals():\n",
    "        current_date = dates[0]\n",
    "    if 'ticker' not in locals():\n",
    "        ticker = df.SYM_ROOT.values[0]\n",
    "    \n",
    "    if len(dates)==1 and current_date==dates[0]:  # only one date which is the current one\n",
    "        if 'df_date' not in locals():\n",
    "            df_date = df \n",
    "        else:\n",
    "            df_date = pd.concat([df_date, df])\n",
    "    elif len(dates)==1 and current_date!=dates[0]:  # only one date but it is not the current date\n",
    "        df_date.DATE = df_date.DATE.astype(str).apply(lambda x: x[:4]+'-'+x[4:6]+'-'+x[6:])\n",
    "        df_date['DT'] = df_date.DATE + ' ' +df_date.TIME_M\n",
    "        df_date.drop(columns=['DATE', 'TIME_M'], inplace=True)\n",
    "        df_date.to_csv(os.path.join(data_path, 'data_per_day', f'{ticker}_{current_date}.csv'), index=False)\n",
    "        end=timer()\n",
    "        print(f'Finished {current_date} in {end-start} seconds')\n",
    "        start=timer()\n",
    "        df_date = df\n",
    "        current_date = dates[0]\n",
    "    elif len(dates)==2:\n",
    "        df_date = pd.concat([df_date, df[df.DATE == current_date]])\n",
    "        df_date.DATE = df_date.DATE.astype(str).apply(lambda x: x[:4]+'-'+x[4:6]+'-'+x[6:])\n",
    "        df_date['DT'] = df_date.DATE + ' ' +df_date.TIME_M\n",
    "        df_date.drop(columns=['DATE', 'TIME_M'], inplace=True)\n",
    "        df_date.to_csv(os.path.join(data_path, 'data_per_day', f'{ticker}_{current_date}.csv'), index=False)\n",
    "        end=timer()\n",
    "        print(f'Finished {current_date} in {end-start} seconds')\n",
    "        start=timer()\n",
    "        current_date = dates[1]\n",
    "        df_date = df[df.DATE == current_date]\n",
    "    else:\n",
    "        print('More than two dates are present. Chuncksize is too big!')\n",
    "        break\n",
    "df_date.DATE = df_date.DATE.astype(str).apply(lambda x: x[:4]+'-'+x[4:6]+'-'+x[6:])\n",
    "df_date['DT'] = df_date.DATE + ' ' +df_date.TIME_M\n",
    "df_date.drop(columns=['DATE', 'TIME_M'], inplace=True)\n",
    "df_date.to_csv(os.path.join(data_path, 'data_per_day', f'{ticker}_{current_date}.csv'), index=False) # as the last chuck is processed but never saved\n",
    "end=timer()\n",
    "print(f'Finished {current_date} in {end-start} seconds')"
   ]
  },
  {
   "cell_type": "markdown",
   "id": "literary-sector",
   "metadata": {},
   "source": [
    "Several cases:\n",
    "    - only one date which is the current one\n",
    "        - either create or append to df_date\n",
    "    - only one date but it is not the current date\n",
    "        - save the df_date to csv and redifine df_date = df\n",
    "    - two dates:\n",
    "        - truncate, append & save & redifine df_date =  df and the current date\n",
    "    - more than two dates:\n",
    "        - chunck is too big \n",
    "        \n",
    "   Only issue remaining is the last chuck! which you do not save"
   ]
  },
  {
   "cell_type": "code",
   "execution_count": null,
   "id": "pointed-depression",
   "metadata": {},
   "outputs": [],
   "source": []
  }
 ],
 "metadata": {
  "kernelspec": {
   "display_name": "Python 3",
   "language": "python",
   "name": "python3"
  },
  "language_info": {
   "codemirror_mode": {
    "name": "ipython",
    "version": 3
   },
   "file_extension": ".py",
   "mimetype": "text/x-python",
   "name": "python",
   "nbconvert_exporter": "python",
   "pygments_lexer": "ipython3",
   "version": "3.8.8"
  }
 },
 "nbformat": 4,
 "nbformat_minor": 5
}
